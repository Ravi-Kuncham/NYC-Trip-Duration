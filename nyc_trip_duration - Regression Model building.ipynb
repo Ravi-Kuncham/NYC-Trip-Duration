{
 "cells": [
  {
   "cell_type": "code",
   "execution_count": 1,
   "metadata": {},
   "outputs": [],
   "source": [
    "import numpy as np\n",
    "import pandas as pd\n",
    "import mpu\n",
    "\n",
    "import matplotlib.pyplot as plt\n",
    "import seaborn as sns\n",
    "\n",
    "from statsmodels.graphics.gofplots import qqplot\n",
    "from statsmodels.stats.outliers_influence import variance_inflation_factor\n",
    "from sklearn.model_selection import train_test_split, GridSearchCV, learning_curve, ShuffleSplit\n",
    "from sklearn.preprocessing import StandardScaler\n",
    "from sklearn.metrics import mean_absolute_error, mean_squared_error, mean_squared_log_error\n",
    "\n",
    "from sklearn.linear_model import LinearRegression\n",
    "from sklearn.ensemble import RandomForestRegressor, GradientBoostingRegressor\n",
    "from xgboost.sklearn import XGBRegressor\n",
    "from xgboost import XGBRegressor\n",
    "\n",
    "import warnings\n",
    "warnings.filterwarnings('ignore')"
   ]
  },
  {
   "cell_type": "markdown",
   "metadata": {},
   "source": [
    "* Trips with 0 passenger count should be replaced with mode value which is 1\n",
    "* Outliers in the passenger count should be handled using IQR replace (Make sure it is an interger)\n",
    "* remove those trips which covered 0 km distance but clocked more than 1 minute to make our data more consistent for predictive model\n",
    "* Remove trips which covered a distance of <=1km but duration is more than or equal to 1 hr\n",
    "* data = data[data.pickup_longitude != data.pickup_longitude.min()]\n",
    "* Don't remove longitude and latitude information from the data frame"
   ]
  },
  {
   "cell_type": "code",
   "execution_count": 2,
   "metadata": {},
   "outputs": [
    {
     "data": {
      "text/html": [
       "<div>\n",
       "<style scoped>\n",
       "    .dataframe tbody tr th:only-of-type {\n",
       "        vertical-align: middle;\n",
       "    }\n",
       "\n",
       "    .dataframe tbody tr th {\n",
       "        vertical-align: top;\n",
       "    }\n",
       "\n",
       "    .dataframe thead th {\n",
       "        text-align: right;\n",
       "    }\n",
       "</style>\n",
       "<table border=\"1\" class=\"dataframe\">\n",
       "  <thead>\n",
       "    <tr style=\"text-align: right;\">\n",
       "      <th></th>\n",
       "      <th>id</th>\n",
       "      <th>vendor_id</th>\n",
       "      <th>pickup_datetime</th>\n",
       "      <th>dropoff_datetime</th>\n",
       "      <th>passenger_count</th>\n",
       "      <th>pickup_longitude</th>\n",
       "      <th>pickup_latitude</th>\n",
       "      <th>dropoff_longitude</th>\n",
       "      <th>dropoff_latitude</th>\n",
       "      <th>store_and_fwd_flag</th>\n",
       "      <th>trip_duration</th>\n",
       "    </tr>\n",
       "  </thead>\n",
       "  <tbody>\n",
       "    <tr>\n",
       "      <th>0</th>\n",
       "      <td>id1080784</td>\n",
       "      <td>2</td>\n",
       "      <td>2016-02-29 16:40:21</td>\n",
       "      <td>2016-02-29 16:47:01</td>\n",
       "      <td>1</td>\n",
       "      <td>-73.953918</td>\n",
       "      <td>40.778873</td>\n",
       "      <td>-73.963875</td>\n",
       "      <td>40.771164</td>\n",
       "      <td>N</td>\n",
       "      <td>400</td>\n",
       "    </tr>\n",
       "    <tr>\n",
       "      <th>1</th>\n",
       "      <td>id0889885</td>\n",
       "      <td>1</td>\n",
       "      <td>2016-03-11 23:35:37</td>\n",
       "      <td>2016-03-11 23:53:57</td>\n",
       "      <td>2</td>\n",
       "      <td>-73.988312</td>\n",
       "      <td>40.731743</td>\n",
       "      <td>-73.994751</td>\n",
       "      <td>40.694931</td>\n",
       "      <td>N</td>\n",
       "      <td>1100</td>\n",
       "    </tr>\n",
       "    <tr>\n",
       "      <th>2</th>\n",
       "      <td>id0857912</td>\n",
       "      <td>2</td>\n",
       "      <td>2016-02-21 17:59:33</td>\n",
       "      <td>2016-02-21 18:26:48</td>\n",
       "      <td>2</td>\n",
       "      <td>-73.997314</td>\n",
       "      <td>40.721458</td>\n",
       "      <td>-73.948029</td>\n",
       "      <td>40.774918</td>\n",
       "      <td>N</td>\n",
       "      <td>1635</td>\n",
       "    </tr>\n",
       "    <tr>\n",
       "      <th>3</th>\n",
       "      <td>id3744273</td>\n",
       "      <td>2</td>\n",
       "      <td>2016-01-05 09:44:31</td>\n",
       "      <td>2016-01-05 10:03:32</td>\n",
       "      <td>6</td>\n",
       "      <td>-73.961670</td>\n",
       "      <td>40.759720</td>\n",
       "      <td>-73.956779</td>\n",
       "      <td>40.780628</td>\n",
       "      <td>N</td>\n",
       "      <td>1141</td>\n",
       "    </tr>\n",
       "    <tr>\n",
       "      <th>4</th>\n",
       "      <td>id0232939</td>\n",
       "      <td>1</td>\n",
       "      <td>2016-02-17 06:42:23</td>\n",
       "      <td>2016-02-17 06:56:31</td>\n",
       "      <td>1</td>\n",
       "      <td>-74.017120</td>\n",
       "      <td>40.708469</td>\n",
       "      <td>-73.988182</td>\n",
       "      <td>40.740631</td>\n",
       "      <td>N</td>\n",
       "      <td>848</td>\n",
       "    </tr>\n",
       "    <tr>\n",
       "      <th>...</th>\n",
       "      <td>...</td>\n",
       "      <td>...</td>\n",
       "      <td>...</td>\n",
       "      <td>...</td>\n",
       "      <td>...</td>\n",
       "      <td>...</td>\n",
       "      <td>...</td>\n",
       "      <td>...</td>\n",
       "      <td>...</td>\n",
       "      <td>...</td>\n",
       "      <td>...</td>\n",
       "    </tr>\n",
       "    <tr>\n",
       "      <th>729317</th>\n",
       "      <td>id3905982</td>\n",
       "      <td>2</td>\n",
       "      <td>2016-05-21 13:29:38</td>\n",
       "      <td>2016-05-21 13:34:34</td>\n",
       "      <td>2</td>\n",
       "      <td>-73.965919</td>\n",
       "      <td>40.789780</td>\n",
       "      <td>-73.952637</td>\n",
       "      <td>40.789181</td>\n",
       "      <td>N</td>\n",
       "      <td>296</td>\n",
       "    </tr>\n",
       "    <tr>\n",
       "      <th>729318</th>\n",
       "      <td>id0102861</td>\n",
       "      <td>1</td>\n",
       "      <td>2016-02-22 00:43:11</td>\n",
       "      <td>2016-02-22 00:48:26</td>\n",
       "      <td>1</td>\n",
       "      <td>-73.996666</td>\n",
       "      <td>40.737434</td>\n",
       "      <td>-74.001320</td>\n",
       "      <td>40.731911</td>\n",
       "      <td>N</td>\n",
       "      <td>315</td>\n",
       "    </tr>\n",
       "    <tr>\n",
       "      <th>729319</th>\n",
       "      <td>id0439699</td>\n",
       "      <td>1</td>\n",
       "      <td>2016-04-15 18:56:48</td>\n",
       "      <td>2016-04-15 19:08:01</td>\n",
       "      <td>1</td>\n",
       "      <td>-73.997849</td>\n",
       "      <td>40.761696</td>\n",
       "      <td>-74.001488</td>\n",
       "      <td>40.741207</td>\n",
       "      <td>N</td>\n",
       "      <td>673</td>\n",
       "    </tr>\n",
       "    <tr>\n",
       "      <th>729320</th>\n",
       "      <td>id2078912</td>\n",
       "      <td>1</td>\n",
       "      <td>2016-06-19 09:50:47</td>\n",
       "      <td>2016-06-19 09:58:14</td>\n",
       "      <td>1</td>\n",
       "      <td>-74.006706</td>\n",
       "      <td>40.708244</td>\n",
       "      <td>-74.013550</td>\n",
       "      <td>40.713814</td>\n",
       "      <td>N</td>\n",
       "      <td>447</td>\n",
       "    </tr>\n",
       "    <tr>\n",
       "      <th>729321</th>\n",
       "      <td>id1053441</td>\n",
       "      <td>2</td>\n",
       "      <td>2016-01-01 17:24:16</td>\n",
       "      <td>2016-01-01 17:44:40</td>\n",
       "      <td>4</td>\n",
       "      <td>-74.003342</td>\n",
       "      <td>40.743839</td>\n",
       "      <td>-73.945847</td>\n",
       "      <td>40.712841</td>\n",
       "      <td>N</td>\n",
       "      <td>1224</td>\n",
       "    </tr>\n",
       "  </tbody>\n",
       "</table>\n",
       "<p>729322 rows × 11 columns</p>\n",
       "</div>"
      ],
      "text/plain": [
       "               id  vendor_id      pickup_datetime     dropoff_datetime  \\\n",
       "0       id1080784          2  2016-02-29 16:40:21  2016-02-29 16:47:01   \n",
       "1       id0889885          1  2016-03-11 23:35:37  2016-03-11 23:53:57   \n",
       "2       id0857912          2  2016-02-21 17:59:33  2016-02-21 18:26:48   \n",
       "3       id3744273          2  2016-01-05 09:44:31  2016-01-05 10:03:32   \n",
       "4       id0232939          1  2016-02-17 06:42:23  2016-02-17 06:56:31   \n",
       "...           ...        ...                  ...                  ...   \n",
       "729317  id3905982          2  2016-05-21 13:29:38  2016-05-21 13:34:34   \n",
       "729318  id0102861          1  2016-02-22 00:43:11  2016-02-22 00:48:26   \n",
       "729319  id0439699          1  2016-04-15 18:56:48  2016-04-15 19:08:01   \n",
       "729320  id2078912          1  2016-06-19 09:50:47  2016-06-19 09:58:14   \n",
       "729321  id1053441          2  2016-01-01 17:24:16  2016-01-01 17:44:40   \n",
       "\n",
       "        passenger_count  pickup_longitude  pickup_latitude  dropoff_longitude  \\\n",
       "0                     1        -73.953918        40.778873         -73.963875   \n",
       "1                     2        -73.988312        40.731743         -73.994751   \n",
       "2                     2        -73.997314        40.721458         -73.948029   \n",
       "3                     6        -73.961670        40.759720         -73.956779   \n",
       "4                     1        -74.017120        40.708469         -73.988182   \n",
       "...                 ...               ...              ...                ...   \n",
       "729317                2        -73.965919        40.789780         -73.952637   \n",
       "729318                1        -73.996666        40.737434         -74.001320   \n",
       "729319                1        -73.997849        40.761696         -74.001488   \n",
       "729320                1        -74.006706        40.708244         -74.013550   \n",
       "729321                4        -74.003342        40.743839         -73.945847   \n",
       "\n",
       "        dropoff_latitude store_and_fwd_flag  trip_duration  \n",
       "0              40.771164                  N            400  \n",
       "1              40.694931                  N           1100  \n",
       "2              40.774918                  N           1635  \n",
       "3              40.780628                  N           1141  \n",
       "4              40.740631                  N            848  \n",
       "...                  ...                ...            ...  \n",
       "729317         40.789181                  N            296  \n",
       "729318         40.731911                  N            315  \n",
       "729319         40.741207                  N            673  \n",
       "729320         40.713814                  N            447  \n",
       "729321         40.712841                  N           1224  \n",
       "\n",
       "[729322 rows x 11 columns]"
      ]
     },
     "execution_count": 2,
     "metadata": {},
     "output_type": "execute_result"
    }
   ],
   "source": [
    "nyc_trip_duration = pd.read_csv('nyc_taxi_trip_duration.csv')\n",
    "nyc_trip_duration"
   ]
  },
  {
   "cell_type": "markdown",
   "metadata": {},
   "source": [
    "### Feature generation:"
   ]
  },
  {
   "cell_type": "code",
   "execution_count": 3,
   "metadata": {},
   "outputs": [],
   "source": [
    "# Date columns: \n",
    "dates_list = ['pickup_datetime','dropoff_datetime']\n",
    "\n",
    "# Converting date time information to the date time data type:\n",
    "for date_col in dates_list:\n",
    "    nyc_trip_duration[date_col] = pd.to_datetime(nyc_trip_duration[date_col])\n",
    "\n",
    "# Extracting Year, Month, Day name, hour of the day converted to categories (Morning, Noon, etc.):\n",
    "nyc_trip_duration['pickup_month'] = nyc_trip_duration['pickup_datetime'].dt.month\n",
    "nyc_trip_duration['pickup_week_num'] = nyc_trip_duration['pickup_datetime'].dt.week\n",
    "nyc_trip_duration['pickup_day_name'] = nyc_trip_duration['pickup_datetime'].dt.day_name()\n",
    "nyc_trip_duration['pickup_hour'] = nyc_trip_duration['pickup_datetime'].dt.hour\n"
   ]
  },
  {
   "cell_type": "code",
   "execution_count": 4,
   "metadata": {},
   "outputs": [],
   "source": [
    "# Calculating trip distance using latitude and longitude information:\n",
    "nyc_trip_duration['trip_distance'] = list(map(mpu.haversine_distance, zip(nyc_trip_duration['pickup_latitude'], nyc_trip_duration['pickup_longitude']), zip(nyc_trip_duration['dropoff_latitude'], nyc_trip_duration['dropoff_longitude'])))\n",
    "\n",
    "#Calculate Speed in km/h for further insights\n",
    "nyc_trip_duration['trip_speed'] = (nyc_trip_duration.trip_distance/(nyc_trip_duration.trip_duration/3600))"
   ]
  },
  {
   "cell_type": "code",
   "execution_count": 5,
   "metadata": {},
   "outputs": [
    {
     "data": {
      "text/html": [
       "<div>\n",
       "<style scoped>\n",
       "    .dataframe tbody tr th:only-of-type {\n",
       "        vertical-align: middle;\n",
       "    }\n",
       "\n",
       "    .dataframe tbody tr th {\n",
       "        vertical-align: top;\n",
       "    }\n",
       "\n",
       "    .dataframe thead th {\n",
       "        text-align: right;\n",
       "    }\n",
       "</style>\n",
       "<table border=\"1\" class=\"dataframe\">\n",
       "  <thead>\n",
       "    <tr style=\"text-align: right;\">\n",
       "      <th></th>\n",
       "      <th>id</th>\n",
       "      <th>vendor_id</th>\n",
       "      <th>pickup_datetime</th>\n",
       "      <th>dropoff_datetime</th>\n",
       "      <th>passenger_count</th>\n",
       "      <th>pickup_longitude</th>\n",
       "      <th>pickup_latitude</th>\n",
       "      <th>dropoff_longitude</th>\n",
       "      <th>dropoff_latitude</th>\n",
       "      <th>store_and_fwd_flag</th>\n",
       "      <th>trip_duration</th>\n",
       "      <th>pickup_month</th>\n",
       "      <th>pickup_week_num</th>\n",
       "      <th>pickup_day_name</th>\n",
       "      <th>pickup_hour</th>\n",
       "      <th>trip_distance</th>\n",
       "      <th>trip_speed</th>\n",
       "    </tr>\n",
       "  </thead>\n",
       "  <tbody>\n",
       "    <tr>\n",
       "      <th>0</th>\n",
       "      <td>id1080784</td>\n",
       "      <td>2</td>\n",
       "      <td>2016-02-29 16:40:21</td>\n",
       "      <td>2016-02-29 16:47:01</td>\n",
       "      <td>1</td>\n",
       "      <td>-73.953918</td>\n",
       "      <td>40.778873</td>\n",
       "      <td>-73.963875</td>\n",
       "      <td>40.771164</td>\n",
       "      <td>N</td>\n",
       "      <td>400</td>\n",
       "      <td>2</td>\n",
       "      <td>9</td>\n",
       "      <td>Monday</td>\n",
       "      <td>16</td>\n",
       "      <td>1.199073</td>\n",
       "      <td>10.791654</td>\n",
       "    </tr>\n",
       "    <tr>\n",
       "      <th>1</th>\n",
       "      <td>id0889885</td>\n",
       "      <td>1</td>\n",
       "      <td>2016-03-11 23:35:37</td>\n",
       "      <td>2016-03-11 23:53:57</td>\n",
       "      <td>2</td>\n",
       "      <td>-73.988312</td>\n",
       "      <td>40.731743</td>\n",
       "      <td>-73.994751</td>\n",
       "      <td>40.694931</td>\n",
       "      <td>N</td>\n",
       "      <td>1100</td>\n",
       "      <td>3</td>\n",
       "      <td>10</td>\n",
       "      <td>Friday</td>\n",
       "      <td>23</td>\n",
       "      <td>4.129111</td>\n",
       "      <td>13.513454</td>\n",
       "    </tr>\n",
       "    <tr>\n",
       "      <th>2</th>\n",
       "      <td>id0857912</td>\n",
       "      <td>2</td>\n",
       "      <td>2016-02-21 17:59:33</td>\n",
       "      <td>2016-02-21 18:26:48</td>\n",
       "      <td>2</td>\n",
       "      <td>-73.997314</td>\n",
       "      <td>40.721458</td>\n",
       "      <td>-73.948029</td>\n",
       "      <td>40.774918</td>\n",
       "      <td>N</td>\n",
       "      <td>1635</td>\n",
       "      <td>2</td>\n",
       "      <td>7</td>\n",
       "      <td>Sunday</td>\n",
       "      <td>17</td>\n",
       "      <td>7.250753</td>\n",
       "      <td>15.964960</td>\n",
       "    </tr>\n",
       "    <tr>\n",
       "      <th>3</th>\n",
       "      <td>id3744273</td>\n",
       "      <td>2</td>\n",
       "      <td>2016-01-05 09:44:31</td>\n",
       "      <td>2016-01-05 10:03:32</td>\n",
       "      <td>6</td>\n",
       "      <td>-73.961670</td>\n",
       "      <td>40.759720</td>\n",
       "      <td>-73.956779</td>\n",
       "      <td>40.780628</td>\n",
       "      <td>N</td>\n",
       "      <td>1141</td>\n",
       "      <td>1</td>\n",
       "      <td>1</td>\n",
       "      <td>Tuesday</td>\n",
       "      <td>9</td>\n",
       "      <td>2.361097</td>\n",
       "      <td>7.449562</td>\n",
       "    </tr>\n",
       "    <tr>\n",
       "      <th>4</th>\n",
       "      <td>id0232939</td>\n",
       "      <td>1</td>\n",
       "      <td>2016-02-17 06:42:23</td>\n",
       "      <td>2016-02-17 06:56:31</td>\n",
       "      <td>1</td>\n",
       "      <td>-74.017120</td>\n",
       "      <td>40.708469</td>\n",
       "      <td>-73.988182</td>\n",
       "      <td>40.740631</td>\n",
       "      <td>N</td>\n",
       "      <td>848</td>\n",
       "      <td>2</td>\n",
       "      <td>7</td>\n",
       "      <td>Wednesday</td>\n",
       "      <td>6</td>\n",
       "      <td>4.328534</td>\n",
       "      <td>18.375851</td>\n",
       "    </tr>\n",
       "    <tr>\n",
       "      <th>...</th>\n",
       "      <td>...</td>\n",
       "      <td>...</td>\n",
       "      <td>...</td>\n",
       "      <td>...</td>\n",
       "      <td>...</td>\n",
       "      <td>...</td>\n",
       "      <td>...</td>\n",
       "      <td>...</td>\n",
       "      <td>...</td>\n",
       "      <td>...</td>\n",
       "      <td>...</td>\n",
       "      <td>...</td>\n",
       "      <td>...</td>\n",
       "      <td>...</td>\n",
       "      <td>...</td>\n",
       "      <td>...</td>\n",
       "      <td>...</td>\n",
       "    </tr>\n",
       "    <tr>\n",
       "      <th>729317</th>\n",
       "      <td>id3905982</td>\n",
       "      <td>2</td>\n",
       "      <td>2016-05-21 13:29:38</td>\n",
       "      <td>2016-05-21 13:34:34</td>\n",
       "      <td>2</td>\n",
       "      <td>-73.965919</td>\n",
       "      <td>40.789780</td>\n",
       "      <td>-73.952637</td>\n",
       "      <td>40.789181</td>\n",
       "      <td>N</td>\n",
       "      <td>296</td>\n",
       "      <td>5</td>\n",
       "      <td>20</td>\n",
       "      <td>Saturday</td>\n",
       "      <td>13</td>\n",
       "      <td>1.120223</td>\n",
       "      <td>13.624333</td>\n",
       "    </tr>\n",
       "    <tr>\n",
       "      <th>729318</th>\n",
       "      <td>id0102861</td>\n",
       "      <td>1</td>\n",
       "      <td>2016-02-22 00:43:11</td>\n",
       "      <td>2016-02-22 00:48:26</td>\n",
       "      <td>1</td>\n",
       "      <td>-73.996666</td>\n",
       "      <td>40.737434</td>\n",
       "      <td>-74.001320</td>\n",
       "      <td>40.731911</td>\n",
       "      <td>N</td>\n",
       "      <td>315</td>\n",
       "      <td>2</td>\n",
       "      <td>8</td>\n",
       "      <td>Monday</td>\n",
       "      <td>0</td>\n",
       "      <td>0.728705</td>\n",
       "      <td>8.328053</td>\n",
       "    </tr>\n",
       "    <tr>\n",
       "      <th>729319</th>\n",
       "      <td>id0439699</td>\n",
       "      <td>1</td>\n",
       "      <td>2016-04-15 18:56:48</td>\n",
       "      <td>2016-04-15 19:08:01</td>\n",
       "      <td>1</td>\n",
       "      <td>-73.997849</td>\n",
       "      <td>40.761696</td>\n",
       "      <td>-74.001488</td>\n",
       "      <td>40.741207</td>\n",
       "      <td>N</td>\n",
       "      <td>673</td>\n",
       "      <td>4</td>\n",
       "      <td>15</td>\n",
       "      <td>Friday</td>\n",
       "      <td>18</td>\n",
       "      <td>2.298776</td>\n",
       "      <td>12.296570</td>\n",
       "    </tr>\n",
       "    <tr>\n",
       "      <th>729320</th>\n",
       "      <td>id2078912</td>\n",
       "      <td>1</td>\n",
       "      <td>2016-06-19 09:50:47</td>\n",
       "      <td>2016-06-19 09:58:14</td>\n",
       "      <td>1</td>\n",
       "      <td>-74.006706</td>\n",
       "      <td>40.708244</td>\n",
       "      <td>-74.013550</td>\n",
       "      <td>40.713814</td>\n",
       "      <td>N</td>\n",
       "      <td>447</td>\n",
       "      <td>6</td>\n",
       "      <td>24</td>\n",
       "      <td>Sunday</td>\n",
       "      <td>9</td>\n",
       "      <td>0.846316</td>\n",
       "      <td>6.815966</td>\n",
       "    </tr>\n",
       "    <tr>\n",
       "      <th>729321</th>\n",
       "      <td>id1053441</td>\n",
       "      <td>2</td>\n",
       "      <td>2016-01-01 17:24:16</td>\n",
       "      <td>2016-01-01 17:44:40</td>\n",
       "      <td>4</td>\n",
       "      <td>-74.003342</td>\n",
       "      <td>40.743839</td>\n",
       "      <td>-73.945847</td>\n",
       "      <td>40.712841</td>\n",
       "      <td>N</td>\n",
       "      <td>1224</td>\n",
       "      <td>1</td>\n",
       "      <td>53</td>\n",
       "      <td>Friday</td>\n",
       "      <td>17</td>\n",
       "      <td>5.945837</td>\n",
       "      <td>17.487757</td>\n",
       "    </tr>\n",
       "  </tbody>\n",
       "</table>\n",
       "<p>729322 rows × 17 columns</p>\n",
       "</div>"
      ],
      "text/plain": [
       "               id  vendor_id     pickup_datetime    dropoff_datetime  \\\n",
       "0       id1080784          2 2016-02-29 16:40:21 2016-02-29 16:47:01   \n",
       "1       id0889885          1 2016-03-11 23:35:37 2016-03-11 23:53:57   \n",
       "2       id0857912          2 2016-02-21 17:59:33 2016-02-21 18:26:48   \n",
       "3       id3744273          2 2016-01-05 09:44:31 2016-01-05 10:03:32   \n",
       "4       id0232939          1 2016-02-17 06:42:23 2016-02-17 06:56:31   \n",
       "...           ...        ...                 ...                 ...   \n",
       "729317  id3905982          2 2016-05-21 13:29:38 2016-05-21 13:34:34   \n",
       "729318  id0102861          1 2016-02-22 00:43:11 2016-02-22 00:48:26   \n",
       "729319  id0439699          1 2016-04-15 18:56:48 2016-04-15 19:08:01   \n",
       "729320  id2078912          1 2016-06-19 09:50:47 2016-06-19 09:58:14   \n",
       "729321  id1053441          2 2016-01-01 17:24:16 2016-01-01 17:44:40   \n",
       "\n",
       "        passenger_count  pickup_longitude  pickup_latitude  dropoff_longitude  \\\n",
       "0                     1        -73.953918        40.778873         -73.963875   \n",
       "1                     2        -73.988312        40.731743         -73.994751   \n",
       "2                     2        -73.997314        40.721458         -73.948029   \n",
       "3                     6        -73.961670        40.759720         -73.956779   \n",
       "4                     1        -74.017120        40.708469         -73.988182   \n",
       "...                 ...               ...              ...                ...   \n",
       "729317                2        -73.965919        40.789780         -73.952637   \n",
       "729318                1        -73.996666        40.737434         -74.001320   \n",
       "729319                1        -73.997849        40.761696         -74.001488   \n",
       "729320                1        -74.006706        40.708244         -74.013550   \n",
       "729321                4        -74.003342        40.743839         -73.945847   \n",
       "\n",
       "        dropoff_latitude store_and_fwd_flag  trip_duration  pickup_month  \\\n",
       "0              40.771164                  N            400             2   \n",
       "1              40.694931                  N           1100             3   \n",
       "2              40.774918                  N           1635             2   \n",
       "3              40.780628                  N           1141             1   \n",
       "4              40.740631                  N            848             2   \n",
       "...                  ...                ...            ...           ...   \n",
       "729317         40.789181                  N            296             5   \n",
       "729318         40.731911                  N            315             2   \n",
       "729319         40.741207                  N            673             4   \n",
       "729320         40.713814                  N            447             6   \n",
       "729321         40.712841                  N           1224             1   \n",
       "\n",
       "        pickup_week_num pickup_day_name  pickup_hour  trip_distance  \\\n",
       "0                     9          Monday           16       1.199073   \n",
       "1                    10          Friday           23       4.129111   \n",
       "2                     7          Sunday           17       7.250753   \n",
       "3                     1         Tuesday            9       2.361097   \n",
       "4                     7       Wednesday            6       4.328534   \n",
       "...                 ...             ...          ...            ...   \n",
       "729317               20        Saturday           13       1.120223   \n",
       "729318                8          Monday            0       0.728705   \n",
       "729319               15          Friday           18       2.298776   \n",
       "729320               24          Sunday            9       0.846316   \n",
       "729321               53          Friday           17       5.945837   \n",
       "\n",
       "        trip_speed  \n",
       "0        10.791654  \n",
       "1        13.513454  \n",
       "2        15.964960  \n",
       "3         7.449562  \n",
       "4        18.375851  \n",
       "...            ...  \n",
       "729317   13.624333  \n",
       "729318    8.328053  \n",
       "729319   12.296570  \n",
       "729320    6.815966  \n",
       "729321   17.487757  \n",
       "\n",
       "[729322 rows x 17 columns]"
      ]
     },
     "execution_count": 5,
     "metadata": {},
     "output_type": "execute_result"
    }
   ],
   "source": [
    "nyc_trip_duration"
   ]
  },
  {
   "cell_type": "markdown",
   "metadata": {},
   "source": [
    "### Data Pre-processing:"
   ]
  },
  {
   "cell_type": "code",
   "execution_count": 6,
   "metadata": {},
   "outputs": [],
   "source": [
    "# Replacing passenger count 0 with 1 as 1 is the mode of the passenger count based on EDA:\n",
    "nyc_trip_duration['passenger_count'] = nyc_trip_duration['passenger_count'].apply(lambda x: 1 if x==0 else x)\n",
    "\n",
    "# Replacing outliers 7 and 9 passenger count with 6:\n",
    "nyc_trip_duration['passenger_count'] = nyc_trip_duration['passenger_count'].apply(lambda x: 6 if x > 6 else x)"
   ]
  },
  {
   "cell_type": "code",
   "execution_count": 7,
   "metadata": {},
   "outputs": [],
   "source": [
    "# Dropping rows whose trip distance = 0 and trip duration >= 1 min (data inconsistencies as per EDA):\n",
    "nyc_trip_duration = nyc_trip_duration.loc[~((nyc_trip_duration.trip_distance == 0) & (nyc_trip_duration.trip_duration>=60))]"
   ]
  },
  {
   "cell_type": "code",
   "execution_count": 8,
   "metadata": {},
   "outputs": [],
   "source": [
    "# Dropping of unnecessary columns:\n",
    "nyc_trip_duration = nyc_trip_duration.drop(['id','pickup_datetime', 'dropoff_datetime', 'pickup_longitude',\n",
    "       'pickup_latitude', 'dropoff_longitude', 'dropoff_latitude'], axis=1)"
   ]
  },
  {
   "cell_type": "markdown",
   "metadata": {},
   "source": [
    "#### Handling outliers:"
   ]
  },
  {
   "cell_type": "code",
   "execution_count": 9,
   "metadata": {},
   "outputs": [],
   "source": [
    "# Function to handle outliers:\n",
    "def outlier_handling(df_original, col_name, method = 'IQR', replace = True):\n",
    "    \n",
    "    df = df_original.copy()\n",
    "    \n",
    "    # Handling outliers using IQR method:\n",
    "    if method == 'IQR':        \n",
    "        # 1st Quartile and 3rd Quartile: \n",
    "        Q1 = df[col_name].quantile(0.25)\n",
    "        Q3 = df[col_name].quantile(0.75)\n",
    "        # Interquartile range and whisker width:\n",
    "        IQR = Q3-Q1\n",
    "        whisker_width = 1.5\n",
    "        # Lower and Upper whiskers:\n",
    "        lower_whisker = Q1 - (whisker_width * IQR)\n",
    "        upper_whisker = Q3 + (whisker_width * IQR)\n",
    "        \n",
    "        if replace == True:\n",
    "            # Replacing outliers with respective whiskers:\n",
    "            print('Replacing outliers using IQR')\n",
    "            df.loc[df[col_name] > upper_whisker, col_name] = upper_whisker\n",
    "            df.loc[df[col_name] < lower_whisker, col_name] = lower_whisker\n",
    "        else:\n",
    "            # Dropping outliers: (Not recommended as the entire row values of all columns are dropped along with the outliers leading to data loss)\n",
    "            print('Dropping outliers using IQR')\n",
    "            df = df.loc[df[col_name] <= upper_whisker]\n",
    "            df = df.loc[df[col_name] >= lower_whisker]\n",
    "    \n",
    "    ## Handling outliers using Standard deviation method:\n",
    "    elif method == 'STD':\n",
    "        # Higher end standard deviation value (Mean + 3 * standard deviation):\n",
    "        high_std_val = df[col_name].mean() + 3 * df[col_name].std()\n",
    "        # Lower end standard deviation value (Mean - 3 * standard deviation):\n",
    "        low_std_val = df[col_name].mean() - 3 * df[col_name].std()\n",
    "        \n",
    "        if replace == True:\n",
    "            # Replacing outliers with higher and lower end standard deviation values of the column:\n",
    "            print('Replacing outliers using Standard deviation')\n",
    "            df.loc[df[col_name] > high_std_val, col_name] = high_std_val\n",
    "            df.loc[df[col_name] > low_std_val, col_name] = low_std_val\n",
    "        else:\n",
    "            # Dropping outliers: (Not recommended as the entire row values of all columns are dropped along with the outliers leading to data loss)\n",
    "            print('Dropping outliers using Standard deviation')\n",
    "            df = df.loc[df[col_name] <= high_std_val] \n",
    "            df = df.loc[df[col_name] >= low_std_val] \n",
    "            \n",
    "    return df"
   ]
  },
  {
   "cell_type": "code",
   "execution_count": 10,
   "metadata": {},
   "outputs": [],
   "source": [
    "# The speed limit in Newyork is 104 km/hr, so removing any observations that travelled with a speed greater than the speed limit as this might bad data:\n",
    "nyc_trip_duration = nyc_trip_duration.loc[nyc_trip_duration['trip_speed'] <= 105]"
   ]
  },
  {
   "cell_type": "markdown",
   "metadata": {},
   "source": [
    "#### Encoding categorical variables:"
   ]
  },
  {
   "cell_type": "code",
   "execution_count": 11,
   "metadata": {},
   "outputs": [],
   "source": [
    "dummy = pd.get_dummies(nyc_trip_duration.store_and_fwd_flag, prefix='flag')\n",
    "dummy.drop(dummy.columns[0], axis=1, inplace=True) #avoid dummy trap\n",
    "nyc_trip_duration = pd.concat([nyc_trip_duration,dummy], axis = 1)\n",
    "nyc_trip_duration = nyc_trip_duration.drop('store_and_fwd_flag', axis=1)\n",
    "\n",
    "dummy = pd.get_dummies(nyc_trip_duration.vendor_id, prefix='vendor_id')\n",
    "dummy.drop(dummy.columns[0], axis=1, inplace=True) #avoid dummy trap\n",
    "nyc_trip_duration = pd.concat([nyc_trip_duration,dummy], axis = 1)\n",
    "nyc_trip_duration = nyc_trip_duration.drop('vendor_id', axis=1)\n",
    "\n",
    "dummy = pd.get_dummies(nyc_trip_duration.pickup_month, prefix='month')\n",
    "dummy.drop(dummy.columns[0], axis=1, inplace=True) #avoid dummy trap\n",
    "nyc_trip_duration = pd.concat([nyc_trip_duration,dummy], axis = 1)\n",
    "nyc_trip_duration = nyc_trip_duration.drop('pickup_month', axis=1)\n",
    "\n",
    "dummy = pd.get_dummies(nyc_trip_duration.pickup_week_num, prefix='weekday_num')\n",
    "dummy.drop(dummy.columns[0], axis=1, inplace=True) #avoid dummy trap\n",
    "nyc_trip_duration = pd.concat([nyc_trip_duration,dummy], axis = 1)\n",
    "nyc_trip_duration = nyc_trip_duration.drop('pickup_week_num', axis=1)\n",
    "\n",
    "dummy = pd.get_dummies(nyc_trip_duration.pickup_hour, prefix='pickup_hour')\n",
    "dummy.drop(dummy.columns[0], axis=1, inplace=True) #avoid dummy trap\n",
    "nyc_trip_duration = pd.concat([nyc_trip_duration,dummy], axis = 1)\n",
    "nyc_trip_duration = nyc_trip_duration.drop('pickup_hour', axis=1)\n",
    "\n",
    "dummy = pd.get_dummies(nyc_trip_duration.passenger_count, prefix='passenger_count')\n",
    "dummy.drop(dummy.columns[0], axis=1, inplace=True) #avoid dummy trap\n",
    "nyc_trip_duration = pd.concat([nyc_trip_duration,dummy], axis = 1)\n",
    "nyc_trip_duration = nyc_trip_duration.drop('passenger_count', axis=1)\n",
    "\n",
    "nyc_trip_duration = nyc_trip_duration.drop('pickup_day_name', axis=1)"
   ]
  },
  {
   "cell_type": "markdown",
   "metadata": {},
   "source": [
    "#### Splitting the data into train and test sets:"
   ]
  },
  {
   "cell_type": "code",
   "execution_count": 12,
   "metadata": {},
   "outputs": [],
   "source": [
    "# Seperating Independent and Dependent features:\n",
    "X = nyc_trip_duration.drop('trip_duration', axis=1)\n",
    "y = nyc_trip_duration['trip_duration']\n",
    "\n",
    "# Splitting the data into train and test sets:\n",
    "train_X, test_X, train_y, test_y = train_test_split(X,y, test_size=0.20, random_state=11)"
   ]
  },
  {
   "cell_type": "markdown",
   "metadata": {},
   "source": [
    "#### Feature scaling:"
   ]
  },
  {
   "cell_type": "code",
   "execution_count": 13,
   "metadata": {},
   "outputs": [],
   "source": [
    "# Intializing and applying standard scaler:\n",
    "scaler = StandardScaler()\n",
    "train_X[['trip_distance','trip_speed']] = scaler.fit_transform(train_X[['trip_distance','trip_speed']])\n",
    "test_X[['trip_distance','trip_speed']] = scaler.transform(test_X[['trip_distance','trip_speed']])"
   ]
  },
  {
   "cell_type": "markdown",
   "metadata": {},
   "source": [
    "#### Model training and prediction:"
   ]
  },
  {
   "cell_type": "markdown",
   "metadata": {},
   "source": [
    "##### Linear Regression:"
   ]
  },
  {
   "cell_type": "code",
   "execution_count": 14,
   "metadata": {},
   "outputs": [],
   "source": [
    "#Linear regressor for the raw data\n",
    "regressor = LinearRegression() \n",
    "regressor.fit(train_X, train_y) \n",
    "\n",
    "#Predict from the test features of raw data\n",
    "pred_y = regressor.predict(test_X) "
   ]
  },
  {
   "cell_type": "markdown",
   "metadata": {},
   "source": [
    "##### Model evaluation:"
   ]
  },
  {
   "cell_type": "code",
   "execution_count": 15,
   "metadata": {},
   "outputs": [
    {
     "name": "stdout",
     "output_type": "stream",
     "text": [
      "MAE score for the Multiple LR raw is : 437.63886782973543\n",
      "MSE score for the Multiple LR raw is : 10143130.955147432\n",
      "RMSE score for the Multiple LR raw is : 3184.828245784603\n",
      "Variance score for the Multiple LR raw is : 0.06\n"
     ]
    }
   ],
   "source": [
    "#Evaluate the regressor on the raw data\n",
    "print('MAE score for the Multiple LR raw is : {}'.format(mean_absolute_error(test_y,pred_y)))\n",
    "print('MSE score for the Multiple LR raw is : {}'.format(mean_squared_error(test_y,pred_y)))\n",
    "print('RMSE score for the Multiple LR raw is : {}'.format(np.sqrt(mean_squared_error(test_y,pred_y))))\n",
    "# print('RMSLE score for the Multiple LR raw is : {}'.format(mean_squared_log_error(test_y,pred_y)))\n",
    "print('Variance score for the Multiple LR raw is : %.2f' % regressor.score(test_X, test_y))"
   ]
  },
  {
   "cell_type": "code",
   "execution_count": 16,
   "metadata": {},
   "outputs": [
    {
     "data": {
      "text/plain": [
       "array([ 9.32024577e+02, -7.24502222e+02, -1.90972103e+01,  1.96473606e+02,\n",
       "       -1.79860268e+14, -1.79860268e+14, -1.79860268e+14, -1.79860268e+14,\n",
       "       -1.79860268e+14, -9.44503770e+01, -1.24804806e+02, -1.19040085e+02,\n",
       "        1.79860268e+14,  1.79860268e+14,  1.79860268e+14,  1.79860268e+14,\n",
       "        1.79860268e+14,  1.79860268e+14,  1.79860268e+14,  1.79860268e+14,\n",
       "        1.79860268e+14,  1.79860268e+14,  1.79860268e+14,  1.79860268e+14,\n",
       "        1.79860268e+14,  1.79860268e+14,  1.79860268e+14,  1.79860268e+14,\n",
       "        1.79860268e+14,  1.79860268e+14,  1.79860268e+14,  1.79860268e+14,\n",
       "        1.79860268e+14,  1.79860268e+14,  5.42812500e+01,  3.71875000e+01,\n",
       "        5.52343750e+01,  1.35062500e+02,  1.14843750e+02,  2.19421875e+02,\n",
       "       -1.29843750e+01, -1.68226562e+02, -2.37851562e+02, -2.38164062e+02,\n",
       "       -2.54109375e+02, -2.77375000e+02, -2.76703125e+02, -2.73703125e+02,\n",
       "       -2.87687500e+02, -2.42187500e+02, -2.11218750e+02, -2.49421875e+02,\n",
       "       -2.61375000e+02, -2.55781250e+02, -2.03671875e+02, -1.74351562e+02,\n",
       "       -1.16812500e+02, -1.16968750e+02, -1.53125000e+01, -9.66796875e-01,\n",
       "       -7.82812500e+00,  2.97187500e+01,  2.08222656e+01])"
      ]
     },
     "execution_count": 16,
     "metadata": {},
     "output_type": "execute_result"
    }
   ],
   "source": [
    "# Coefficients of Linear Regression Model:\n",
    "regressor.coef_"
   ]
  },
  {
   "cell_type": "code",
   "execution_count": 17,
   "metadata": {},
   "outputs": [
    {
     "data": {
      "image/png": "[encoded data removed]",
      "text/plain": [
       "<Figure size 1000x600 with 1 Axes>"
      ]
     },
     "metadata": {
      "needs_background": "light"
     },
     "output_type": "display_data"
    }
   ],
   "source": [
    "# Plotting the coefficients:\n",
    "plt.figure(figsize=(10,6),dpi=100)\n",
    "x_ = range(len(train_X.columns))\n",
    "y_ = regressor.coef_\n",
    "plt.bar(x_,y_)\n",
    "plt.xlabel('Variables')\n",
    "plt.ylabel('Coefficients')\n",
    "plt.title('Coefficient Plot')\n",
    "plt.show()"
   ]
  },
  {
   "cell_type": "markdown",
   "metadata": {},
   "source": [
    "#Testing assumptions of Linear regression:"
   ]
  },
  {
   "cell_type": "code",
   "execution_count": 18,
   "metadata": {},
   "outputs": [
    {
     "data": {
      "text/html": [
       "<div>\n",
       "<style scoped>\n",
       "    .dataframe tbody tr th:only-of-type {\n",
       "        vertical-align: middle;\n",
       "    }\n",
       "\n",
       "    .dataframe tbody tr th {\n",
       "        vertical-align: top;\n",
       "    }\n",
       "\n",
       "    .dataframe thead th {\n",
       "        text-align: right;\n",
       "    }\n",
       "</style>\n",
       "<table border=\"1\" class=\"dataframe\">\n",
       "  <thead>\n",
       "    <tr style=\"text-align: right;\">\n",
       "      <th></th>\n",
       "      <th>Actual values</th>\n",
       "      <th>Predicted values</th>\n",
       "      <th>residuals</th>\n",
       "    </tr>\n",
       "  </thead>\n",
       "  <tbody>\n",
       "    <tr>\n",
       "      <th>0</th>\n",
       "      <td>236</td>\n",
       "      <td>616.014578</td>\n",
       "      <td>-380.014578</td>\n",
       "    </tr>\n",
       "    <tr>\n",
       "      <th>1</th>\n",
       "      <td>898</td>\n",
       "      <td>706.240518</td>\n",
       "      <td>191.759482</td>\n",
       "    </tr>\n",
       "    <tr>\n",
       "      <th>2</th>\n",
       "      <td>980</td>\n",
       "      <td>639.068477</td>\n",
       "      <td>340.931523</td>\n",
       "    </tr>\n",
       "    <tr>\n",
       "      <th>3</th>\n",
       "      <td>585</td>\n",
       "      <td>369.748330</td>\n",
       "      <td>215.251670</td>\n",
       "    </tr>\n",
       "    <tr>\n",
       "      <th>4</th>\n",
       "      <td>446</td>\n",
       "      <td>461.303018</td>\n",
       "      <td>-15.303018</td>\n",
       "    </tr>\n",
       "    <tr>\n",
       "      <th>...</th>\n",
       "      <td>...</td>\n",
       "      <td>...</td>\n",
       "      <td>...</td>\n",
       "    </tr>\n",
       "    <tr>\n",
       "      <th>145426</th>\n",
       "      <td>1545</td>\n",
       "      <td>1849.537393</td>\n",
       "      <td>-304.537393</td>\n",
       "    </tr>\n",
       "    <tr>\n",
       "      <th>145427</th>\n",
       "      <td>1101</td>\n",
       "      <td>929.646768</td>\n",
       "      <td>171.353232</td>\n",
       "    </tr>\n",
       "    <tr>\n",
       "      <th>145428</th>\n",
       "      <td>209</td>\n",
       "      <td>-382.712607</td>\n",
       "      <td>591.712607</td>\n",
       "    </tr>\n",
       "    <tr>\n",
       "      <th>145429</th>\n",
       "      <td>864</td>\n",
       "      <td>571.428018</td>\n",
       "      <td>292.571982</td>\n",
       "    </tr>\n",
       "    <tr>\n",
       "      <th>145430</th>\n",
       "      <td>2696</td>\n",
       "      <td>3353.599893</td>\n",
       "      <td>-657.599893</td>\n",
       "    </tr>\n",
       "  </tbody>\n",
       "</table>\n",
       "<p>145431 rows × 3 columns</p>\n",
       "</div>"
      ],
      "text/plain": [
       "        Actual values  Predicted values   residuals\n",
       "0                 236        616.014578 -380.014578\n",
       "1                 898        706.240518  191.759482\n",
       "2                 980        639.068477  340.931523\n",
       "3                 585        369.748330  215.251670\n",
       "4                 446        461.303018  -15.303018\n",
       "...               ...               ...         ...\n",
       "145426           1545       1849.537393 -304.537393\n",
       "145427           1101        929.646768  171.353232\n",
       "145428            209       -382.712607  591.712607\n",
       "145429            864        571.428018  292.571982\n",
       "145430           2696       3353.599893 -657.599893\n",
       "\n",
       "[145431 rows x 3 columns]"
      ]
     },
     "execution_count": 18,
     "metadata": {},
     "output_type": "execute_result"
    }
   ],
   "source": [
    "# Calculating Residuals:\n",
    "residuals_df = pd.DataFrame(\n",
    "    {'Actual values': test_y,\n",
    "     'Predicted values': pred_y}\n",
    "    ).reset_index(drop=True)\n",
    "residuals_df['residuals'] = residuals_df['Actual values'] - residuals_df['Predicted values']\n",
    "residuals_df"
   ]
  },
  {
   "cell_type": "code",
   "execution_count": 19,
   "metadata": {},
   "outputs": [
    {
     "data": {
      "image/png": "[encoded data removed]",
      "text/plain": [
       "<Figure size 1200x720 with 1 Axes>"
      ]
     },
     "metadata": {},
     "output_type": "display_data"
    }
   ],
   "source": [
    "# Plotting resiudals to check for variance:\n",
    "plt.figure(figsize=(10, 6), dpi=120, facecolor='w', edgecolor='b')\n",
    "f = range(0,145431)\n",
    "k = [0 for i in range(0,145431)]\n",
    "plt.scatter( f, residuals_df.residuals[:145431], label = 'residuals')\n",
    "plt.plot( f, k , color = 'red', label = 'regression line' )\n",
    "plt.xlabel('fitted points ')\n",
    "plt.ylabel('residuals')\n",
    "plt.title('Residual plot')\n",
    "plt.ylim(-4000, 4000)\n",
    "plt.legend()\n",
    "plt.show()"
   ]
  },
  {
   "cell_type": "markdown",
   "metadata": {},
   "source": [
    "* The residual plot clearly looks homoscedastic, i.e the variance of the error across the dataset is nearly constant\n",
    "* The residuals seem to be evenly distributed around the regression line and there is no visible pattern among the residuals\n",
    "* So, there is no correlation amongh the residuals "
   ]
  },
  {
   "cell_type": "code",
   "execution_count": 20,
   "metadata": {},
   "outputs": [
    {
     "data": {
      "image/png": "[encoded data removed]",
      "text/plain": [
       "<Figure size 1200x720 with 1 Axes>"
      ]
     },
     "metadata": {},
     "output_type": "display_data"
    }
   ],
   "source": [
    "# Checking the distribution of the residuals:\n",
    "plt.figure(figsize=(10, 6), dpi=120, facecolor='w', edgecolor='b')\n",
    "plt.hist(residuals_df.residuals, bins=500, label = 'residuals')\n",
    "plt.xlabel('Error')\n",
    "plt.ylabel('frequency')\n",
    "plt.title('Residual plot')\n",
    "plt.xlim(-5000,5000)\n",
    "plt.show()"
   ]
  },
  {
   "cell_type": "markdown",
   "metadata": {},
   "source": [
    "* According to the histogram the residuals are almost normally distributed with very few outliers"
   ]
  },
  {
   "cell_type": "code",
   "execution_count": 21,
   "metadata": {},
   "outputs": [
    {
     "data": {
      "text/plain": [
       "<Figure size 1000x600 with 0 Axes>"
      ]
     },
     "metadata": {},
     "output_type": "display_data"
    },
    {
     "data": {
      "image/png": "[encoded data removed]",
      "text/plain": [
       "<Figure size 1200x720 with 1 Axes>"
      ]
     },
     "metadata": {
      "needs_background": "light"
     },
     "output_type": "display_data"
    }
   ],
   "source": [
    "# QQ-plot to check and confirm if the residuals are normally distributed:\n",
    "plt.figure(figsize=(10,6), dpi=100)\n",
    "fig, ax = plt.subplots(figsize=(10,6) , dpi = 120)\n",
    "qqplot(residuals_df.residuals, line='s', ax=ax)\n",
    "plt.xlabel('Ideal scaled quantiles')\n",
    "plt.ylabel('Residual quantiles')\n",
    "plt.title('Checking distribution of residuals using QQ-Plot')\n",
    "plt.show()"
   ]
  },
  {
   "cell_type": "markdown",
   "metadata": {},
   "source": [
    "* Although most of the residuauals are following normal distribution, clearly there are good amount of outliers indicating that residual distributio is skewed"
   ]
  },
  {
   "cell_type": "code",
   "execution_count": 22,
   "metadata": {},
   "outputs": [
    {
     "data": {
      "text/html": [
       "<div>\n",
       "<style scoped>\n",
       "    .dataframe tbody tr th:only-of-type {\n",
       "        vertical-align: middle;\n",
       "    }\n",
       "\n",
       "    .dataframe tbody tr th {\n",
       "        vertical-align: top;\n",
       "    }\n",
       "\n",
       "    .dataframe thead th {\n",
       "        text-align: right;\n",
       "    }\n",
       "</style>\n",
       "<table border=\"1\" class=\"dataframe\">\n",
       "  <thead>\n",
       "    <tr style=\"text-align: right;\">\n",
       "      <th></th>\n",
       "      <th>features</th>\n",
       "      <th>VIF</th>\n",
       "    </tr>\n",
       "  </thead>\n",
       "  <tbody>\n",
       "    <tr>\n",
       "      <th>0</th>\n",
       "      <td>trip_distance</td>\n",
       "      <td>2.603369</td>\n",
       "    </tr>\n",
       "    <tr>\n",
       "      <th>1</th>\n",
       "      <td>trip_speed</td>\n",
       "      <td>6.729424</td>\n",
       "    </tr>\n",
       "    <tr>\n",
       "      <th>2</th>\n",
       "      <td>flag_Y</td>\n",
       "      <td>1.013058</td>\n",
       "    </tr>\n",
       "    <tr>\n",
       "      <th>3</th>\n",
       "      <td>vendor_id_2</td>\n",
       "      <td>2.337501</td>\n",
       "    </tr>\n",
       "    <tr>\n",
       "      <th>4</th>\n",
       "      <td>month_2</td>\n",
       "      <td>inf</td>\n",
       "    </tr>\n",
       "    <tr>\n",
       "      <th>...</th>\n",
       "      <td>...</td>\n",
       "      <td>...</td>\n",
       "    </tr>\n",
       "    <tr>\n",
       "      <th>58</th>\n",
       "      <td>passenger_count_2</td>\n",
       "      <td>1.208595</td>\n",
       "    </tr>\n",
       "    <tr>\n",
       "      <th>59</th>\n",
       "      <td>passenger_count_3</td>\n",
       "      <td>1.061953</td>\n",
       "    </tr>\n",
       "    <tr>\n",
       "      <th>60</th>\n",
       "      <td>passenger_count_4</td>\n",
       "      <td>1.028495</td>\n",
       "    </tr>\n",
       "    <tr>\n",
       "      <th>61</th>\n",
       "      <td>passenger_count_5</td>\n",
       "      <td>1.141083</td>\n",
       "    </tr>\n",
       "    <tr>\n",
       "      <th>62</th>\n",
       "      <td>passenger_count_6</td>\n",
       "      <td>1.087446</td>\n",
       "    </tr>\n",
       "  </tbody>\n",
       "</table>\n",
       "<p>63 rows × 2 columns</p>\n",
       "</div>"
      ],
      "text/plain": [
       "             features       VIF\n",
       "0       trip_distance  2.603369\n",
       "1          trip_speed  6.729424\n",
       "2              flag_Y  1.013058\n",
       "3         vendor_id_2  2.337501\n",
       "4             month_2       inf\n",
       "..                ...       ...\n",
       "58  passenger_count_2  1.208595\n",
       "59  passenger_count_3  1.061953\n",
       "60  passenger_count_4  1.028495\n",
       "61  passenger_count_5  1.141083\n",
       "62  passenger_count_6  1.087446\n",
       "\n",
       "[63 rows x 2 columns]"
      ]
     },
     "execution_count": 22,
     "metadata": {},
     "output_type": "execute_result"
    }
   ],
   "source": [
    "## This code takes too long to run and hence is commented for now:\n",
    "# Calculating Multicollinearity:\n",
    "vif_df = pd.DataFrame()\n",
    "vif_df['features'] = X.columns\n",
    "vif_df['VIF'] = [variance_inflation_factor(X.values,i) for i in range(len(X.columns))]\n",
    "\n",
    "vif_df"
   ]
  },
  {
   "cell_type": "code",
   "execution_count": 23,
   "metadata": {},
   "outputs": [],
   "source": [
    "# Checking if any independent variable has a multicollinearity greater than or equal to 5:\n",
    "vif_df.loc[vif_df['VIF'] >= 5].head()\n",
    "\n",
    "# Removing the column with high multicollinearity:\n",
    "train_X_adjusted_cols = train_X.drop('trip_speed', axis=1)\n",
    "test_X_adjusted_cols = test_X.drop('trip_speed', axis=1)"
   ]
  },
  {
   "cell_type": "markdown",
   "metadata": {},
   "source": [
    "* Trip speed has a multicollinearity greater than 5. So we remove this variable and train the model again"
   ]
  },
  {
   "cell_type": "code",
   "execution_count": 24,
   "metadata": {},
   "outputs": [],
   "source": [
    "#Linear regressor without features with high multicollinearity:\n",
    "regressor2 = LinearRegression() \n",
    "regressor2.fit(train_X_adjusted_cols, train_y) \n",
    "\n",
    "#Predict from the test features:\n",
    "pred_y_adjusted_cols = regressor2.predict(test_X_adjusted_cols) "
   ]
  },
  {
   "cell_type": "code",
   "execution_count": 25,
   "metadata": {},
   "outputs": [
    {
     "name": "stdout",
     "output_type": "stream",
     "text": [
      "MAE score for the Multiple LR removed vif is : 439.10677383086835\n",
      "MSE score for the Multiple LR removed vif is : 10474429.942154916\n",
      "RMSE score for the Multiple LR removed vif is : 3236.422398599249\n",
      "Variance score for the Multiple LR removed vif is : 0.03\n"
     ]
    }
   ],
   "source": [
    "#Evaluate the regressor on the raw data\n",
    "print('MAE score for the Multiple LR removed vif is : {}'.format(mean_absolute_error(test_y,pred_y_adjusted_cols)))\n",
    "print('MSE score for the Multiple LR removed vif is : {}'.format(mean_squared_error(test_y,pred_y_adjusted_cols)))\n",
    "print('RMSE score for the Multiple LR removed vif is : {}'.format(np.sqrt(mean_squared_error(test_y,pred_y_adjusted_cols))))\n",
    "print('Variance score for the Multiple LR removed vif is : %.2f' % regressor2.score(test_X_adjusted_cols, test_y))"
   ]
  },
  {
   "cell_type": "markdown",
   "metadata": {},
   "source": [
    "* Model accuracy did not imporve even after removing variables with high multicollinearity"
   ]
  },
  {
   "cell_type": "code",
   "execution_count": 26,
   "metadata": {},
   "outputs": [
    {
     "data": {
      "text/html": [
       "<div>\n",
       "<style scoped>\n",
       "    .dataframe tbody tr th:only-of-type {\n",
       "        vertical-align: middle;\n",
       "    }\n",
       "\n",
       "    .dataframe tbody tr th {\n",
       "        vertical-align: top;\n",
       "    }\n",
       "\n",
       "    .dataframe thead th {\n",
       "        text-align: right;\n",
       "    }\n",
       "</style>\n",
       "<table border=\"1\" class=\"dataframe\">\n",
       "  <thead>\n",
       "    <tr style=\"text-align: right;\">\n",
       "      <th></th>\n",
       "      <th>Variable</th>\n",
       "      <th>coefficient</th>\n",
       "    </tr>\n",
       "  </thead>\n",
       "  <tbody>\n",
       "    <tr>\n",
       "      <th>0</th>\n",
       "      <td>trip_distance</td>\n",
       "      <td>9.320246e+02</td>\n",
       "    </tr>\n",
       "    <tr>\n",
       "      <th>1</th>\n",
       "      <td>trip_speed</td>\n",
       "      <td>-7.245022e+02</td>\n",
       "    </tr>\n",
       "    <tr>\n",
       "      <th>2</th>\n",
       "      <td>flag_Y</td>\n",
       "      <td>-1.909721e+01</td>\n",
       "    </tr>\n",
       "    <tr>\n",
       "      <th>3</th>\n",
       "      <td>vendor_id_2</td>\n",
       "      <td>1.964736e+02</td>\n",
       "    </tr>\n",
       "    <tr>\n",
       "      <th>4</th>\n",
       "      <td>month_2</td>\n",
       "      <td>-1.798603e+14</td>\n",
       "    </tr>\n",
       "  </tbody>\n",
       "</table>\n",
       "</div>"
      ],
      "text/plain": [
       "        Variable   coefficient\n",
       "0  trip_distance  9.320246e+02\n",
       "1     trip_speed -7.245022e+02\n",
       "2         flag_Y -1.909721e+01\n",
       "3    vendor_id_2  1.964736e+02\n",
       "4        month_2 -1.798603e+14"
      ]
     },
     "metadata": {},
     "output_type": "display_data"
    }
   ],
   "source": [
    "# Arranging coefficients with features:\n",
    "Coefficients_df = pd.DataFrame({\n",
    "    'Variable'    : X.columns,\n",
    "    'coefficient' : regressor.coef_\n",
    "})\n",
    "display(Coefficients_df.head())\n",
    "\n",
    "# Choosing variables with significance greater than 0.5:\n",
    "sig_var = Coefficients_df.loc[Coefficients_df.coefficient > 0.5]\n",
    "\n",
    "# Exctracting those variables and putting them in a seperate dataframe:\n",
    "X_significant_vars = nyc_trip_duration[sig_var['Variable'].values]"
   ]
  },
  {
   "cell_type": "code",
   "execution_count": 27,
   "metadata": {},
   "outputs": [
    {
     "name": "stdout",
     "output_type": "stream",
     "text": [
      "MAE score for the Multiple LR raw is : 447.5701833298074\n",
      "MSE score for the Multiple LR raw is : 10484997.704916693\n",
      "RMSE score for the Multiple LR raw is : 3238.0546173461457\n",
      "Variance score for the Multiple LR raw is : 0.03\n"
     ]
    }
   ],
   "source": [
    "# Splitting the data into train and test sets:\n",
    "train_X2, test_X2, train_y2, test_y2 = train_test_split(X_significant_vars,y, test_size=0.20, random_state=11)\n",
    "\n",
    "# Intializing and applying standard scaler:\n",
    "scaler2 = StandardScaler()\n",
    "train_X2[['trip_distance']] = scaler2.fit_transform(train_X2[['trip_distance']])\n",
    "test_X2[['trip_distance']] = scaler2.transform(test_X2[['trip_distance']])\n",
    "\n",
    "#Linear regressor for the raw data\n",
    "regressor3 = LinearRegression() \n",
    "regressor3.fit(train_X2, train_y2) \n",
    "\n",
    "#Predict from the test features of raw data\n",
    "pred_y_significant_vars = regressor3.predict(test_X2) \n",
    "\n",
    "#Evaluate the regressor on the raw data\n",
    "print('MAE score for the Multiple LR raw is : {}'.format(mean_absolute_error(test_y2,pred_y_significant_vars)))\n",
    "print('MSE score for the Multiple LR raw is : {}'.format(mean_squared_error(test_y2,pred_y_significant_vars)))\n",
    "print('RMSE score for the Multiple LR raw is : {}'.format(np.sqrt(mean_squared_error(test_y2,pred_y_significant_vars))))\n",
    "print('Variance score for the Multiple LR raw is : %.2f' % regressor3.score(test_X2, test_y2))"
   ]
  },
  {
   "cell_type": "markdown",
   "metadata": {},
   "source": [
    "* Model accuracy did not improve even after filtering out insignificant coefficients"
   ]
  },
  {
   "cell_type": "code",
   "execution_count": 28,
   "metadata": {},
   "outputs": [
    {
     "data": {
      "image/png": "[encoded data removed]",
      "text/plain": [
       "<Figure size 960x720 with 1 Axes>"
      ]
     },
     "metadata": {},
     "output_type": "display_data"
    }
   ],
   "source": [
    "# Plotting the coefficients:\n",
    "plt.figure(figsize=(8, 6), dpi=120, facecolor='w', edgecolor='b')\n",
    "x_2 = range(len(train_X2.columns))\n",
    "y_2 = regressor3.coef_\n",
    "plt.bar(x_2, y_2 )\n",
    "plt.xlabel( \"Variables\")\n",
    "plt.ylabel('Coefficients')\n",
    "plt.title('Scaled Coefficient plot')\n",
    "plt.show()"
   ]
  },
  {
   "cell_type": "markdown",
   "metadata": {},
   "source": [
    "##### Random Forest Regressor:"
   ]
  },
  {
   "cell_type": "code",
   "execution_count": 29,
   "metadata": {},
   "outputs": [],
   "source": [
    "#instantiate the object for the Random Forest Regressor with default params from raw data\n",
    "regressor_rfr= RandomForestRegressor(n_jobs=-1)\n",
    "regressor_rfr.fit(train_X, train_y)\n",
    "\n",
    "#Predict from the test features of raw data\n",
    "pred_y_rfr = regressor_rfr.predict(test_X)"
   ]
  },
  {
   "cell_type": "markdown",
   "metadata": {},
   "source": [
    "##### Model Evaluation:"
   ]
  },
  {
   "cell_type": "code",
   "execution_count": 30,
   "metadata": {},
   "outputs": [
    {
     "name": "stdout",
     "output_type": "stream",
     "text": [
      "RMSE score for the RF regressor raw is : 361.8710607356988\n",
      "RMSLE score for the RF regressor raw is : 0.04074932163442589\n",
      "Variance score for the RF regressor raw is : 0.99\n"
     ]
    }
   ],
   "source": [
    "#Evaluate the model with default params for Random Forest Regressor:\n",
    "print('RMSE score for the RF regressor raw is : {}'.format(np.sqrt(mean_squared_error(test_y,pred_y_rfr))))\n",
    "print('RMSLE score for the RF regressor raw is : {}'.format(np.sqrt(mean_squared_log_error(test_y,pred_y_rfr))))\n",
    "print('Variance score for the RF regressor raw is : %.2f' % regressor_rfr.score(test_X, test_y))"
   ]
  },
  {
   "cell_type": "markdown",
   "metadata": {},
   "source": [
    "##### Xgboost:"
   ]
  },
  {
   "cell_type": "code",
   "execution_count": 31,
   "metadata": {},
   "outputs": [],
   "source": [
    "#instantiate the object for the XGBoost Regressor with default params for raw data\n",
    "regressor_xgbraw = XGBRegressor(n_jobs=-1)\n",
    "#Train the object with default params for raw data\n",
    "regressor_xgbraw.fit(train_X, train_y)\n",
    "\n",
    "#Predict the output with object of default params for raw data\n",
    "y_pred_xgbraw = regressor_xgbraw.predict(test_X) "
   ]
  },
  {
   "cell_type": "code",
   "execution_count": 32,
   "metadata": {},
   "outputs": [],
   "source": [
    "# -----#### Note: This code takes too long to run and hence is commented for now ####-----\n",
    "# param_test1 = {\n",
    "#  'max_depth':range(3,10,2),\n",
    "#  'min_child_weight':range(1,6,2)\n",
    "# }\n",
    "# gsearch1 = GridSearchCV(estimator = XGBRegressor(learning_rate =0.1, n_estimators=140, max_depth=5,\n",
    "#  min_child_weight=1, gamma=0, subsample=0.8, colsample_bytree=0.8,\n",
    "#  objective= 'reg:squarederror', nthread=-1, scale_pos_weight=1, seed=27), \n",
    "#  param_grid = param_test1,n_jobs=4, cv=5)\n",
    "# gsearch1.fit(train_X,train_y)\n",
    "# gsearch1.grid_scores_, gsearch1.best_params_, gsearch1.best_score_"
   ]
  },
  {
   "cell_type": "code",
   "execution_count": 33,
   "metadata": {},
   "outputs": [
    {
     "name": "stdout",
     "output_type": "stream",
     "text": [
      "[16:10:33] WARNING: C:/Users/administrator/workspace/xgboost-win64_release_1.6.0/src/learner.cc:627: \n",
      "Parameters: { \"coord_descent\", \"max_features\", \"min_samples_leaf\", \"min_samples_split\", \"silent\" } might not be used.\n",
      "\n",
      "  This could be a false alarm, with some parameters getting used by language bindings but\n",
      "  then being mistakenly passed down to XGBoost core, or some parameter actually being used\n",
      "  but getting flagged wrongly here. Please open an issue if you find any such cases.\n",
      "\n",
      "\n"
     ]
    }
   ],
   "source": [
    "#instantiate the object for the XGBoost Regressor with tuned hyper parameters for Feature Selection Group\n",
    "regressor_xgb1 = XGBRegressor(n_estimators=300,\n",
    "                              learning_rate=0.08,\n",
    "                              gamma=0,\n",
    "                              subsample=0.8,\n",
    "                              colsample_bytree=1,\n",
    "                              max_depth=8,\n",
    "                              min_child_weight=4,\n",
    "                              silent=1,\n",
    "                              max_features='sqrt',\n",
    "                              min_samples_leaf=50,\n",
    "                              min_samples_split=500,\n",
    "                              random_state=10,\n",
    "                              n_jobs=-1,coord_descent='gpu')                 \n",
    "         \n",
    "#Train the object with tuned params for raw data\n",
    "regressor_xgb1.fit(train_X, train_y)\n",
    "\n",
    "#Predict the output with object of default params for raw data\n",
    "y_pred_xgb1 = regressor_xgb1.predict(test_X)"
   ]
  },
  {
   "cell_type": "markdown",
   "metadata": {},
   "source": [
    "##### Model Evaluation:"
   ]
  },
  {
   "cell_type": "code",
   "execution_count": 34,
   "metadata": {},
   "outputs": [
    {
     "name": "stdout",
     "output_type": "stream",
     "text": [
      "RMSE score for the XGBoost regressor raw is : 277.45186078281824\n",
      "Variance score for the XGBoost regressor raw is : 0.99\n",
      "\n",
      "\n"
     ]
    }
   ],
   "source": [
    "#Evaluate the model with default params for raw data\n",
    "print('RMSE score for the XGBoost regressor raw is : {}'.format(np.sqrt(mean_squared_error(test_y,y_pred_xgbraw))))\n",
    "print('Variance score for the XGBoost regressor raw is : %.2f' % regressor_xgbraw.score(test_X, test_y))\n",
    "\n",
    "print(\"\\n\")"
   ]
  },
  {
   "cell_type": "code",
   "execution_count": 35,
   "metadata": {},
   "outputs": [
    {
     "name": "stdout",
     "output_type": "stream",
     "text": [
      "RMSE score for the XGBoost regressor is : 412.6382963572453\n",
      "Variance score for the XGBoost regressor is : 0.98\n",
      "\n",
      "\n"
     ]
    }
   ],
   "source": [
    "#Evaluate the model with tuned params for raw data\n",
    "print('RMSE score for the XGBoost regressor is : {}'.format(np.sqrt(mean_squared_error(test_y,y_pred_xgb1))))\n",
    "print('Variance score for the XGBoost regressor is : %.2f' % regressor_xgb1.score(test_X, test_y))\n",
    "\n",
    "print(\"\\n\")"
   ]
  },
  {
   "cell_type": "code",
   "execution_count": null,
   "metadata": {},
   "outputs": [],
   "source": []
  }
 ],
 "metadata": {
  "kernelspec": {
   "display_name": "Python 3",
   "language": "python",
   "name": "python3"
  },
  "language_info": {
   "codemirror_mode": {
    "name": "ipython",
    "version": 3
   },
   "file_extension": ".py",
   "mimetype": "text/x-python",
   "name": "python",
   "nbconvert_exporter": "python",
   "pygments_lexer": "ipython3",
   "version": "3.7.4"
  }
 },
 "nbformat": 4,
 "nbformat_minor": 2
}
